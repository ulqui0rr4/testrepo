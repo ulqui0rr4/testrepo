{
 "cells": [
  {
   "cell_type": "markdown",
   "id": "4f3e0a60-856b-41c6-a35d-8e45e4c1aa31",
   "metadata": {},
   "source": [
    "# Data Science Tools and Ecosystem"
   ]
  },
  {
   "cell_type": "code",
   "execution_count": 2,
   "id": "9550bf37-2f72-4f45-9809-3597d61a04aa",
   "metadata": {
    "tags": []
   },
   "outputs": [],
   "source": [
    "In this notebook, Data Science Tools and Ecosystem are summarized."
   ]
  },
  {
   "cell_type": "code",
   "execution_count": null,
   "id": "e836cf16-4666-472e-a0fe-52f6706b58f6",
   "metadata": {},
   "outputs": [],
   "source": [
    "## Objectives:\n",
    "\n",
    "* **List popular development environment tools used in Data Science.** (e.g., Jupyter Notebook, Apache Zeppelin, RStudio)\n",
    "* **Evaluate simple arithmetic expressions in Python.** (demonstrated multiplication and addition)\n",
    "* **Convert units (e.g., minutes to hours) using Python.**\n",
    "\n",
    "**Additional takeaways may include:**\n",
    "\n",
    "* Understanding the basic structure of a Jupyter Notebook cell (markdown and code).\n",
    "* Adding comments to explain code functionality.\n",
    "* Using f-strings for formatted printing in Python.\n"
   ]
  },
  {
   "cell_type": "code",
   "execution_count": null,
   "id": "ca7fb813-5590-4531-bdb1-9ba8edf8cfdb",
   "metadata": {},
   "outputs": [],
   "source": [
    "Some of the popular languages that Data Scientists use are:\n",
    "    1. SQL\n",
    "    2. Python\n",
    "    3. R"
   ]
  },
  {
   "cell_type": "code",
   "execution_count": null,
   "id": "db10acee-ba58-42e2-ac11-d95372937fb0",
   "metadata": {},
   "outputs": [],
   "source": [
    "Some of the commonly used libraries used by Data Scientists include:\n",
    "    1. Scrapy\n",
    "    2. Pandas\n",
    "    3. Numpy\n",
    "    4. SciKit-learn\n",
    "    5. Matplotlib"
   ]
  },
  {
   "cell_type": "code",
   "execution_count": null,
   "id": "d9d2f90d-32b8-4609-9e7b-5ced485ff11e",
   "metadata": {},
   "outputs": [],
   "source": [
    "| Data Science Tools |\n",
    "|---|---|\n",
    "| Jupyter Notebook |\n",
    "| Apache Zeppelin |\n",
    "| RStudio |\n",
    "\n",
    "### Below are a few examples of evaluating arithmetic expressions in Python.\n",
    "\n"
   ]
  },
  {
   "cell_type": "code",
   "execution_count": 4,
   "id": "054e7dc5-7c61-4516-98bc-61f1b15fa180",
   "metadata": {
    "tags": []
   },
   "outputs": [
    {
     "name": "stdout",
     "output_type": "stream",
     "text": [
      "17\n"
     ]
    }
   ],
   "source": [
    "# This is a simple arithmetic expression to multiply then add integers.\n",
    "result = (3 * 4) + 5\n",
    "\n",
    "# Print the result\n",
    "print(result)"
   ]
  },
  {
   "cell_type": "code",
   "execution_count": 5,
   "id": "185320fa-0b83-45f2-8b3b-5a05410d5395",
   "metadata": {
    "tags": []
   },
   "outputs": [
    {
     "name": "stdout",
     "output_type": "stream",
     "text": [
      "200 minutes is equivalent to 3.33 hours.\n"
     ]
    }
   ],
   "source": [
    "# This will convert 200 minutes to hours by dividing by 60.\n",
    "minutes = 200\n",
    "hours = minutes / 60\n",
    "\n",
    "# Print the result in a formatted way (2 decimal places)\n",
    "print(f\"{minutes} minutes is equivalent to {hours:.2f} hours.\")\n"
   ]
  },
  {
   "cell_type": "code",
   "execution_count": null,
   "id": "0e676a3f-1719-478f-b172-0c70447cd4de",
   "metadata": {},
   "outputs": [],
   "source": [
    "## Author\n",
    "\n",
    "Sayak Roy\n"
   ]
  }
 ],
 "metadata": {
  "kernelspec": {
   "display_name": "Python",
   "language": "python",
   "name": "conda-env-python-py"
  },
  "language_info": {
   "codemirror_mode": {
    "name": "ipython",
    "version": 3
   },
   "file_extension": ".py",
   "mimetype": "text/x-python",
   "name": "python",
   "nbconvert_exporter": "python",
   "pygments_lexer": "ipython3",
   "version": "3.7.12"
  }
 },
 "nbformat": 4,
 "nbformat_minor": 5
}
